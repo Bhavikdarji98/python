{
 "cells": [
  {
   "cell_type": "code",
   "execution_count": 3,
   "metadata": {},
   "outputs": [
    {
     "name": "stdout",
     "output_type": "stream",
     "text": [
      "time.struct_time(tm_year=2019, tm_mon=9, tm_mday=27, tm_hour=10, tm_min=58, tm_sec=10, tm_wday=4, tm_yday=270, tm_isdst=0)\n"
     ]
    }
   ],
   "source": [
    "import time\n",
    "x=time.time()\n",
    "y=time.localtime(x)\n",
    "print(y)"
   ]
  },
  {
   "cell_type": "code",
   "execution_count": 4,
   "metadata": {},
   "outputs": [],
   "source": [
    "from datetime import datetime"
   ]
  },
  {
   "cell_type": "code",
   "execution_count": 9,
   "metadata": {},
   "outputs": [
    {
     "name": "stdout",
     "output_type": "stream",
     "text": [
      "2019-09-27 11:01:47.619306\n"
     ]
    }
   ],
   "source": [
    "print(datetime.now())"
   ]
  },
  {
   "cell_type": "code",
   "execution_count": 16,
   "metadata": {},
   "outputs": [],
   "source": [
    "now = datetime.now()"
   ]
  },
  {
   "cell_type": "code",
   "execution_count": 14,
   "metadata": {},
   "outputs": [
    {
     "data": {
      "text/plain": [
       "'Friday,27, September19'"
      ]
     },
     "execution_count": 14,
     "metadata": {},
     "output_type": "execute_result"
    }
   ],
   "source": [
    "now.strftime('%A,%d, %B%y')"
   ]
  },
  {
   "cell_type": "code",
   "execution_count": 48,
   "metadata": {},
   "outputs": [
    {
     "name": "stdout",
     "output_type": "stream",
     "text": [
      "enter your number :5\n",
      "1  \n",
      "1 2  \n",
      "1 2 3  \n",
      "1 2 3 4  \n",
      "1 2 3 4 5  \n"
     ]
    }
   ],
   "source": [
    "n=int(input(\"enter your number :\"))\n",
    "for i in range(1,n+1):\n",
    "    for j in range(1,i+1):\n",
    "        \n",
    "        print(j,end=\" \")\n",
    "        \n",
    "    print(\" \")    "
   ]
  },
  {
   "cell_type": "code",
   "execution_count": 56,
   "metadata": {},
   "outputs": [
    {
     "name": "stdout",
     "output_type": "stream",
     "text": [
      " \n",
      " \n",
      " \n",
      " \n",
      " \n",
      " \n",
      "*  \n",
      "* *  \n",
      "* * *  \n",
      "* * * *  \n"
     ]
    }
   ],
   "source": [
    "   \n",
    "for i in range(5):\n",
    "    for j in range(i):\n",
    "        print(\"*\",end=\" \")\n",
    "    print(\" \")    \n",
    "        "
   ]
  },
  {
   "cell_type": "code",
   "execution_count": 62,
   "metadata": {},
   "outputs": [
    {
     "name": "stdout",
     "output_type": "stream",
     "text": [
      "3 3 3 3  \n",
      "3 3 3 3  \n",
      "3 3 3 3  \n",
      "3 3 3 3  \n",
      "3 3 3 3  \n"
     ]
    }
   ],
   "source": [
    "for p in range(5,0,-1):\n",
    "    for q in range(i):\n",
    "        print(j,end=\" \" )\n",
    "    print(\" \") "
   ]
  },
  {
   "cell_type": "code",
   "execution_count": 106,
   "metadata": {},
   "outputs": [
    {
     "name": "stdout",
     "output_type": "stream",
     "text": [
      "A  \n",
      "B C  \n",
      "D E F  \n",
      "G H I J  \n",
      "K L M N O  \n",
      "P Q R S T U  \n",
      "V W X Y Z  \n"
     ]
    }
   ],
   "source": [
    "ascii=65\n",
    "for i in range(1,8):\n",
    "        for j in range(1,i+1):\n",
    "            if ascii<=90:\n",
    "                c=chr(ascii)\n",
    "                print(c,end=\" \")\n",
    "                ascii+=1\n",
    "        print(\" \")    "
   ]
  },
  {
   "cell_type": "code",
   "execution_count": null,
   "metadata": {},
   "outputs": [],
   "source": [
    "ascii=65\n",
    "for i in range(1,8):\n",
    "        for j in range(1,i+1):\n",
    "            if ascii<=90:\n",
    "                c=chr(ascii)\n",
    "                print(c,end=\" \")\n",
    "            ascii+=1\n",
    "        print(\" \")    "
   ]
  },
  {
   "cell_type": "code",
   "execution_count": 114,
   "metadata": {},
   "outputs": [
    {
     "name": "stdout",
     "output_type": "stream",
     "text": [
      "       \n",
      "      A\n",
      "     AA\n",
      "    AAA\n",
      "   AAAA\n",
      "  AAAAA\n"
     ]
    }
   ],
   "source": [
    "ascii=65\n",
    "c=chr(ascii)\n",
    "for i in range(6):\n",
    "    print(' '*(6-i)+\" \"+c*i)\n",
    "    ascii+=1"
   ]
  },
  {
   "cell_type": "code",
   "execution_count": 1,
   "metadata": {},
   "outputs": [
    {
     "name": "stdout",
     "output_type": "stream",
     "text": [
      "\n",
      "*\n",
      "**\n",
      "***\n",
      "****\n",
      "*****\n"
     ]
    }
   ],
   "source": [
    "for i in range(6):\n",
    "    print(\"*\"*i)"
   ]
  },
  {
   "cell_type": "code",
   "execution_count": 10,
   "metadata": {},
   "outputs": [
    {
     "name": "stdout",
     "output_type": "stream",
     "text": [
      "         *\r\n",
      "       * *\r\n",
      "     * * *\r\n",
      "   * * * *\r\n",
      " * * * * *\r\n"
     ]
    }
   ],
   "source": [
    "k=2*5-2\n",
    "for i in range(0,5):\n",
    "    for l in range(0,k):\n",
    "        print(end=\" \")\n",
    "    k+=-2\n",
    "    for j in range(0,i+1):\n",
    "        print(\" *\",end=\"\")\n",
    "    print(\"\\r\")    \n",
    "      "
   ]
  },
  {
   "cell_type": "code",
   "execution_count": 11,
   "metadata": {},
   "outputs": [
    {
     "name": "stdout",
     "output_type": "stream",
     "text": [
      "         *\r\n",
      "        * *\r\n",
      "       * * *\r\n",
      "      * * * *\r\n",
      "     * * * * *\r\n"
     ]
    }
   ],
   "source": [
    "k=2*5-2\n",
    "for i in range(0,5):\n",
    "    for l in range(0,k):\n",
    "        print(end=\" \")\n",
    "    k+=-1\n",
    "    for j in range(0,i+1):\n",
    "        print(\" *\",end=\"\")\n",
    "    print(\"\\r\")    \n",
    "      "
   ]
  },
  {
   "cell_type": "code",
   "execution_count": 17,
   "metadata": {},
   "outputs": [
    {
     "name": "stdout",
     "output_type": "stream",
     "text": [
      "         A\r\n",
      "        B C\r\n",
      "       D E F\r\n",
      "      G H I J\r\n",
      "     K L M N O\r\n"
     ]
    }
   ],
   "source": [
    "ascii=65\n",
    "p=2*5-2\n",
    "\n",
    "for i in range(0,5):\n",
    "   \n",
    "    for k in range(0,p):\n",
    "        print(end=\" \")\n",
    "    p-=1\n",
    "    for j in range(0,i+1):\n",
    "        c=chr(ascii)\n",
    "        print(\" \"+c,end=\"\")\n",
    "        ascii+=1    \n",
    "    print(\"\\r\")    "
   ]
  },
  {
   "cell_type": "code",
   "execution_count": 22,
   "metadata": {
    "scrolled": true
   },
   "outputs": [
    {
     "name": "stdout",
     "output_type": "stream",
     "text": [
      "*****\n",
      "****\n",
      "***\n",
      "**\n",
      "*\n",
      "*\n",
      "**\n",
      "***\n",
      "****\n",
      "*****\n"
     ]
    }
   ],
   "source": [
    "for i in range(5,0,-1):\n",
    "    print(\"*\"*i)\n",
    "for i in range(1,6):\n",
    "    print(\"*\"*i)    "
   ]
  },
  {
   "cell_type": "code",
   "execution_count": 66,
   "metadata": {},
   "outputs": [
    {
     "name": "stdout",
     "output_type": "stream",
     "text": [
      "A  \n",
      "B B  \n",
      "C C C  \n",
      "D D D D  \n",
      "E E E E E  \n"
     ]
    }
   ],
   "source": [
    "ascii=65\n",
    "for i in range(1,n+1):\n",
    "    for j in range(1,i+1):\n",
    "        c=chr(ascii)\n",
    "        print(c,end=\" \")\n",
    "    ascii+=1   \n",
    "    print(\" \")    "
   ]
  },
  {
   "cell_type": "code",
   "execution_count": 78,
   "metadata": {},
   "outputs": [
    {
     "name": "stdout",
     "output_type": "stream",
     "text": [
      "A \t\n",
      "B B \t\n",
      "C C C \t\n",
      "D D D D \t\n",
      "E E E E E \t\n"
     ]
    }
   ],
   "source": [
    "ascii=65\n",
    "for i in range(1,6):\n",
    "    for j in range(1,i+1):\n",
    "        c=chr(ascii)\n",
    "        print(c,end=\" \")\n",
    "    ascii+=1   \n",
    "    print(\"\\t\")"
   ]
  },
  {
   "cell_type": "code",
   "execution_count": 27,
   "metadata": {},
   "outputs": [
    {
     "name": "stdout",
     "output_type": "stream",
     "text": [
      "*\n",
      "**\n",
      "***\n",
      "****\n",
      "*****\n",
      "******\n",
      "*******\n",
      "********\n",
      "*********\n",
      "**********\n"
     ]
    }
   ],
   "source": [
    "for i in range(1,11):\n",
    "    print(\"*\"*i)\n"
   ]
  },
  {
   "cell_type": "code",
   "execution_count": 28,
   "metadata": {},
   "outputs": [
    {
     "name": "stdout",
     "output_type": "stream",
     "text": [
      "**********\n",
      "*********\n",
      "********\n",
      "*******\n",
      "******\n",
      "*****\n",
      "****\n",
      "***\n",
      "**\n",
      "*\n"
     ]
    }
   ],
   "source": [
    "for i in range(1,11):\n",
    "    print(\"*\"*(11-i))"
   ]
  },
  {
   "cell_type": "code",
   "execution_count": 30,
   "metadata": {},
   "outputs": [
    {
     "name": "stdout",
     "output_type": "stream",
     "text": [
      "          *\n",
      "         **\n",
      "        ***\n",
      "       ****\n",
      "      *****\n",
      "     ******\n",
      "    *******\n",
      "   ********\n",
      "  *********\n",
      " **********\n"
     ]
    }
   ],
   "source": [
    "for i in range(1,11):\n",
    "    print(\" \"*(11-i)+\"*\"*i)"
   ]
  },
  {
   "cell_type": "code",
   "execution_count": 31,
   "metadata": {},
   "outputs": [
    {
     "name": "stdout",
     "output_type": "stream",
     "text": [
      " **********\n",
      "  *********\n",
      "   ********\n",
      "    *******\n",
      "     ******\n",
      "      *****\n",
      "       ****\n",
      "        ***\n",
      "         **\n",
      "          *\n"
     ]
    }
   ],
   "source": [
    "for i in range(1,11):\n",
    "    print(\" \"*(i)+\"*\"*(11-i))"
   ]
  },
  {
   "cell_type": "code",
   "execution_count": 47,
   "metadata": {},
   "outputs": [
    {
     "name": "stdout",
     "output_type": "stream",
     "text": [
      "**********************\n",
      "**********  **********\n",
      "*********    *********\n",
      "********      ********\n",
      "*******        *******\n",
      "******          ******\n",
      "*****            *****\n",
      "****              ****\n",
      "***                ***\n",
      "**                  **\n",
      "*                    *\n",
      "*                    *\n",
      "**                  **\n",
      "***                ***\n",
      "****              ****\n",
      "*****            *****\n",
      "******          ******\n",
      "*******        *******\n",
      "********      ********\n",
      "*********    *********\n",
      "**********  **********\n",
      "**********************\n"
     ]
    }
   ],
   "source": [
    "for i in range(0,11):\n",
    "    print(\"*\"*(11-i)+\" \"*i+\" \"*i+\"*\"*(11-i))\n",
    "for j in range(1,12):\n",
    "    print(\"*\"*(j)+\" \"*(11-j)+\" \"*(11-j)+\"*\"*(j))    \n",
    "    "
   ]
  },
  {
   "cell_type": "code",
   "execution_count": 58,
   "metadata": {},
   "outputs": [
    {
     "ename": "SyntaxError",
     "evalue": "invalid syntax (<ipython-input-58-0f18996b626f>, line 2)",
     "output_type": "error",
     "traceback": [
      "\u001b[1;36m  File \u001b[1;32m\"<ipython-input-58-0f18996b626f>\"\u001b[1;36m, line \u001b[1;32m2\u001b[0m\n\u001b[1;33m    x=list[set{l}]\u001b[0m\n\u001b[1;37m              ^\u001b[0m\n\u001b[1;31mSyntaxError\u001b[0m\u001b[1;31m:\u001b[0m invalid syntax\n"
     ]
    }
   ],
   "source": [
    "l=['bhavik','harsh','bhavik','maulik','harsh','maulik','raj','bhavik']\n",
    "x=list[set{l}]\n",
    "    \n",
    "        \n"
   ]
  },
  {
   "cell_type": "code",
   "execution_count": null,
   "metadata": {},
   "outputs": [],
   "source": []
  },
  {
   "cell_type": "code",
   "execution_count": null,
   "metadata": {},
   "outputs": [],
   "source": []
  },
  {
   "cell_type": "code",
   "execution_count": null,
   "metadata": {},
   "outputs": [],
   "source": []
  },
  {
   "cell_type": "code",
   "execution_count": null,
   "metadata": {},
   "outputs": [],
   "source": [
    "x=int(input(\"enter your number \"))\n",
    "rev=0\n",
    "n=x\n",
    "while x>0: \n",
    "    r=x%10\n",
    "    rev=int((rev*10)+r)\n",
    "    x=x/10\n",
    "    \n",
    "if n==rev:\n",
    "    print(\"palindrom\")\n",
    "else:\n",
    "    print(\"not palindrom\")\n"
   ]
  },
  {
   "cell_type": "code",
   "execution_count": null,
   "metadata": {},
   "outputs": [],
   "source": []
  },
  {
   "cell_type": "code",
   "execution_count": null,
   "metadata": {},
   "outputs": [],
   "source": [
    "x=int(input(\"enter your number \"))\n",
    "c=0\n",
    "for i in range(1,x+1):\n",
    "    if x%i==0:\n",
    "        c+=1\n",
    "if c==2:\n",
    "    print(\"prime\")\n",
    "else:\n",
    "    print(\"non prime\")"
   ]
  },
  {
   "cell_type": "code",
   "execution_count": null,
   "metadata": {},
   "outputs": [],
   "source": []
  },
  {
   "cell_type": "code",
   "execution_count": null,
   "metadata": {},
   "outputs": [],
   "source": []
  },
  {
   "cell_type": "code",
   "execution_count": null,
   "metadata": {},
   "outputs": [],
   "source": []
  },
  {
   "cell_type": "code",
   "execution_count": null,
   "metadata": {},
   "outputs": [],
   "source": []
  },
  {
   "cell_type": "code",
   "execution_count": null,
   "metadata": {},
   "outputs": [],
   "source": []
  },
  {
   "cell_type": "code",
   "execution_count": null,
   "metadata": {},
   "outputs": [],
   "source": []
  },
  {
   "cell_type": "code",
   "execution_count": null,
   "metadata": {},
   "outputs": [],
   "source": []
  },
  {
   "cell_type": "code",
   "execution_count": null,
   "metadata": {},
   "outputs": [],
   "source": []
  },
  {
   "cell_type": "code",
   "execution_count": null,
   "metadata": {},
   "outputs": [],
   "source": []
  },
  {
   "cell_type": "code",
   "execution_count": null,
   "metadata": {},
   "outputs": [],
   "source": []
  },
  {
   "cell_type": "code",
   "execution_count": null,
   "metadata": {},
   "outputs": [],
   "source": []
  },
  {
   "cell_type": "code",
   "execution_count": null,
   "metadata": {},
   "outputs": [],
   "source": []
  },
  {
   "cell_type": "code",
   "execution_count": null,
   "metadata": {},
   "outputs": [],
   "source": []
  },
  {
   "cell_type": "code",
   "execution_count": null,
   "metadata": {},
   "outputs": [],
   "source": []
  },
  {
   "cell_type": "code",
   "execution_count": null,
   "metadata": {},
   "outputs": [],
   "source": []
  },
  {
   "cell_type": "code",
   "execution_count": null,
   "metadata": {},
   "outputs": [],
   "source": []
  },
  {
   "cell_type": "code",
   "execution_count": null,
   "metadata": {},
   "outputs": [],
   "source": []
  },
  {
   "cell_type": "code",
   "execution_count": null,
   "metadata": {},
   "outputs": [],
   "source": []
  },
  {
   "cell_type": "code",
   "execution_count": null,
   "metadata": {},
   "outputs": [],
   "source": []
  },
  {
   "cell_type": "code",
   "execution_count": null,
   "metadata": {},
   "outputs": [],
   "source": []
  },
  {
   "cell_type": "code",
   "execution_count": null,
   "metadata": {},
   "outputs": [],
   "source": []
  },
  {
   "cell_type": "code",
   "execution_count": null,
   "metadata": {},
   "outputs": [],
   "source": []
  },
  {
   "cell_type": "code",
   "execution_count": 48,
   "metadata": {},
   "outputs": [
    {
     "name": "stdout",
     "output_type": "stream",
     "text": [
      "['__add__', '__class__', '__contains__', '__delattr__', '__delitem__', '__dir__', '__doc__', '__eq__', '__format__', '__ge__', '__getattribute__', '__getitem__', '__gt__', '__hash__', '__iadd__', '__imul__', '__init__', '__init_subclass__', '__iter__', '__le__', '__len__', '__lt__', '__mul__', '__ne__', '__new__', '__reduce__', '__reduce_ex__', '__repr__', '__reversed__', '__rmul__', '__setattr__', '__setitem__', '__sizeof__', '__str__', '__subclasshook__', 'append', 'clear', 'copy', 'count', 'extend', 'index', 'insert', 'pop', 'remove', 'reverse', 'sort']\n"
     ]
    }
   ],
   "source": [
    "print(dir(list))"
   ]
  },
  {
   "cell_type": "code",
   "execution_count": null,
   "metadata": {},
   "outputs": [],
   "source": []
  },
  {
   "cell_type": "code",
   "execution_count": null,
   "metadata": {},
   "outputs": [],
   "source": []
  },
  {
   "cell_type": "code",
   "execution_count": null,
   "metadata": {},
   "outputs": [],
   "source": []
  },
  {
   "cell_type": "code",
   "execution_count": null,
   "metadata": {},
   "outputs": [],
   "source": []
  },
  {
   "cell_type": "code",
   "execution_count": null,
   "metadata": {},
   "outputs": [],
   "source": []
  },
  {
   "cell_type": "code",
   "execution_count": null,
   "metadata": {},
   "outputs": [],
   "source": []
  },
  {
   "cell_type": "code",
   "execution_count": null,
   "metadata": {},
   "outputs": [],
   "source": []
  },
  {
   "cell_type": "code",
   "execution_count": null,
   "metadata": {},
   "outputs": [],
   "source": []
  },
  {
   "cell_type": "code",
   "execution_count": null,
   "metadata": {},
   "outputs": [],
   "source": []
  },
  {
   "cell_type": "code",
   "execution_count": null,
   "metadata": {},
   "outputs": [],
   "source": []
  },
  {
   "cell_type": "code",
   "execution_count": null,
   "metadata": {},
   "outputs": [],
   "source": []
  },
  {
   "cell_type": "code",
   "execution_count": null,
   "metadata": {},
   "outputs": [],
   "source": []
  },
  {
   "cell_type": "code",
   "execution_count": null,
   "metadata": {},
   "outputs": [],
   "source": []
  },
  {
   "cell_type": "code",
   "execution_count": null,
   "metadata": {},
   "outputs": [],
   "source": []
  },
  {
   "cell_type": "code",
   "execution_count": null,
   "metadata": {},
   "outputs": [],
   "source": []
  }
 ],
 "metadata": {
  "kernelspec": {
   "display_name": "Python 3",
   "language": "python",
   "name": "python3"
  },
  "language_info": {
   "codemirror_mode": {
    "name": "ipython",
    "version": 3
   },
   "file_extension": ".py",
   "mimetype": "text/x-python",
   "name": "python",
   "nbconvert_exporter": "python",
   "pygments_lexer": "ipython3",
   "version": "3.7.3"
  }
 },
 "nbformat": 4,
 "nbformat_minor": 2
}
