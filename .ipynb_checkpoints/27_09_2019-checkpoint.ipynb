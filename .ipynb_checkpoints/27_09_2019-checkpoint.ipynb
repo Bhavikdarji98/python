{
 "cells": [
  {
   "cell_type": "code",
   "execution_count": 3,
   "metadata": {},
   "outputs": [
    {
     "name": "stdout",
     "output_type": "stream",
     "text": [
      "time.struct_time(tm_year=2019, tm_mon=9, tm_mday=27, tm_hour=10, tm_min=58, tm_sec=10, tm_wday=4, tm_yday=270, tm_isdst=0)\n"
     ]
    }
   ],
   "source": [
    "import time\n",
    "x=time.time()\n",
    "y=time.localtime(x)\n",
    "print(y)"
   ]
  },
  {
   "cell_type": "code",
   "execution_count": 4,
   "metadata": {},
   "outputs": [],
   "source": [
    "from datetime import datetime"
   ]
  },
  {
   "cell_type": "code",
   "execution_count": 9,
   "metadata": {},
   "outputs": [
    {
     "name": "stdout",
     "output_type": "stream",
     "text": [
      "2019-09-27 11:01:47.619306\n"
     ]
    }
   ],
   "source": [
    "print(datetime.now())"
   ]
  },
  {
   "cell_type": "code",
   "execution_count": 16,
   "metadata": {},
   "outputs": [],
   "source": [
    "now = datetime.now()"
   ]
  },
  {
   "cell_type": "code",
   "execution_count": 14,
   "metadata": {},
   "outputs": [
    {
     "data": {
      "text/plain": [
       "'Friday,27, September19'"
      ]
     },
     "execution_count": 14,
     "metadata": {},
     "output_type": "execute_result"
    }
   ],
   "source": [
    "now.strftime('%A,%d, %B%y')"
   ]
  },
  {
   "cell_type": "code",
   "execution_count": 48,
   "metadata": {},
   "outputs": [
    {
     "name": "stdout",
     "output_type": "stream",
     "text": [
      "enter your number :5\n",
      "1  \n",
      "1 2  \n",
      "1 2 3  \n",
      "1 2 3 4  \n",
      "1 2 3 4 5  \n"
     ]
    }
   ],
   "source": [
    "n=int(input(\"enter your number :\"))\n",
    "for i in range(1,n+1):\n",
    "    for j in range(1,i+1):\n",
    "        \n",
    "        print(j,end=\" \")\n",
    "        \n",
    "    print(\" \")    "
   ]
  },
  {
   "cell_type": "code",
   "execution_count": 56,
   "metadata": {},
   "outputs": [
    {
     "name": "stdout",
     "output_type": "stream",
     "text": [
      " \n",
      " \n",
      " \n",
      " \n",
      " \n",
      " \n",
      "*  \n",
      "* *  \n",
      "* * *  \n",
      "* * * *  \n"
     ]
    }
   ],
   "source": [
    "   \n",
    "for i in range(5):\n",
    "    for j in range(i):\n",
    "        print(\"*\",end=\" \")\n",
    "    print(\" \")    \n",
    "        "
   ]
  },
  {
   "cell_type": "code",
   "execution_count": 62,
   "metadata": {},
   "outputs": [
    {
     "name": "stdout",
     "output_type": "stream",
     "text": [
      "3 3 3 3  \n",
      "3 3 3 3  \n",
      "3 3 3 3  \n",
      "3 3 3 3  \n",
      "3 3 3 3  \n"
     ]
    }
   ],
   "source": [
    "for p in range(5,0,-1):\n",
    "    for q in range(i):\n",
    "        print(j,end=\" \" )\n",
    "    print(\" \") "
   ]
  },
  {
   "cell_type": "code",
   "execution_count": 106,
   "metadata": {},
   "outputs": [
    {
     "name": "stdout",
     "output_type": "stream",
     "text": [
      "A  \n",
      "B C  \n",
      "D E F  \n",
      "G H I J  \n",
      "K L M N O  \n",
      "P Q R S T U  \n",
      "V W X Y Z  \n"
     ]
    }
   ],
   "source": [
    "ascii=65\n",
    "for i in range(1,8):\n",
    "        for j in range(1,i+1):\n",
    "            if ascii<=90:\n",
    "                c=chr(ascii)\n",
    "                print(c,end=\" \")\n",
    "                ascii+=1\n",
    "        print(\" \")    "
   ]
  },
  {
   "cell_type": "code",
   "execution_count": null,
   "metadata": {},
   "outputs": [],
   "source": [
    "ascii=65\n",
    "for i in range(1,8):\n",
    "        for j in range(1,i+1):\n",
    "            if ascii<=90:\n",
    "                c=chr(ascii)\n",
    "                print(c,end=\" \")\n",
    "            ascii+=1\n",
    "        print(\" \")    "
   ]
  },
  {
   "cell_type": "code",
   "execution_count": 114,
   "metadata": {},
   "outputs": [
    {
     "name": "stdout",
     "output_type": "stream",
     "text": [
      "       \n",
      "      A\n",
      "     AA\n",
      "    AAA\n",
      "   AAAA\n",
      "  AAAAA\n"
     ]
    }
   ],
   "source": [
    "ascii=65\n",
    "c=chr(ascii)\n",
    "for i in range(6):\n",
    "    print(' '*(6-i)+\" \"+c*i)\n",
    "    ascii+=1"
   ]
  },
  {
   "cell_type": "code",
   "execution_count": 1,
   "metadata": {},
   "outputs": [
    {
     "name": "stdout",
     "output_type": "stream",
     "text": [
      "\n",
      "*\n",
      "**\n",
      "***\n",
      "****\n",
      "*****\n"
     ]
    }
   ],
   "source": [
    "for i in range(6):\n",
    "    print(\"*\"*i)"
   ]
  },
  {
   "cell_type": "code",
   "execution_count": 10,
   "metadata": {},
   "outputs": [
    {
     "name": "stdout",
     "output_type": "stream",
     "text": [
      "         *\r\n",
      "       * *\r\n",
      "     * * *\r\n",
      "   * * * *\r\n",
      " * * * * *\r\n"
     ]
    }
   ],
   "source": [
    "k=2*5-2\n",
    "for i in range(0,5):\n",
    "    for l in range(0,k):\n",
    "        print(end=\" \")\n",
    "    k+=-2\n",
    "    for j in range(0,i+1):\n",
    "        print(\" *\",end=\"\")\n",
    "    print(\"\\r\")    \n",
    "      "
   ]
  },
  {
   "cell_type": "code",
   "execution_count": 11,
   "metadata": {},
   "outputs": [
    {
     "name": "stdout",
     "output_type": "stream",
     "text": [
      "         *\r\n",
      "        * *\r\n",
      "       * * *\r\n",
      "      * * * *\r\n",
      "     * * * * *\r\n"
     ]
    }
   ],
   "source": [
    "k=2*5-2\n",
    "for i in range(0,5):\n",
    "    for l in range(0,k):\n",
    "        print(end=\" \")\n",
    "    k+=-1\n",
    "    for j in range(0,i+1):\n",
    "        print(\" *\",end=\"\")\n",
    "    print(\"\\r\")    \n",
    "      "
   ]
  },
  {
   "cell_type": "code",
   "execution_count": 17,
   "metadata": {},
   "outputs": [
    {
     "name": "stdout",
     "output_type": "stream",
     "text": [
      "         A\r\n",
      "        B C\r\n",
      "       D E F\r\n",
      "      G H I J\r\n",
      "     K L M N O\r\n"
     ]
    }
   ],
   "source": [
    "ascii=65\n",
    "p=2*5-2\n",
    "\n",
    "for i in range(0,5):\n",
    "   \n",
    "    for k in range(0,p):\n",
    "        print(end=\" \")\n",
    "    p-=1\n",
    "    for j in range(0,i+1):\n",
    "        c=chr(ascii)\n",
    "        print(\" \"+c,end=\"\")\n",
    "        ascii+=1    \n",
    "    print(\"\\r\")    "
   ]
  },
  {
   "cell_type": "code",
   "execution_count": 22,
   "metadata": {
    "scrolled": true
   },
   "outputs": [
    {
     "name": "stdout",
     "output_type": "stream",
     "text": [
      "*****\n",
      "****\n",
      "***\n",
      "**\n",
      "*\n",
      "*\n",
      "**\n",
      "***\n",
      "****\n",
      "*****\n"
     ]
    }
   ],
   "source": [
    "for i in range(5,0,-1):\n",
    "    print(\"*\"*i)\n",
    "for i in range(1,6):\n",
    "    print(\"*\"*i)    "
   ]
  },
  {
   "cell_type": "code",
   "execution_count": 66,
   "metadata": {},
   "outputs": [
    {
     "name": "stdout",
     "output_type": "stream",
     "text": [
      "A  \n",
      "B B  \n",
      "C C C  \n",
      "D D D D  \n",
      "E E E E E  \n"
     ]
    }
   ],
   "source": [
    "ascii=65\n",
    "for i in range(1,n+1):\n",
    "    for j in range(1,i+1):\n",
    "        c=chr(ascii)\n",
    "        print(c,end=\" \")\n",
    "    ascii+=1   \n",
    "    print(\" \")    "
   ]
  },
  {
   "cell_type": "code",
   "execution_count": 78,
   "metadata": {},
   "outputs": [
    {
     "name": "stdout",
     "output_type": "stream",
     "text": [
      "A \t\n",
      "B B \t\n",
      "C C C \t\n",
      "D D D D \t\n",
      "E E E E E \t\n"
     ]
    }
   ],
   "source": [
    "ascii=65\n",
    "for i in range(1,6):\n",
    "    for j in range(1,i+1):\n",
    "        c=chr(ascii)\n",
    "        print(c,end=\" \")\n",
    "    ascii+=1   \n",
    "    print(\"\\t\")"
   ]
  },
  {
   "cell_type": "code",
   "execution_count": 27,
   "metadata": {},
   "outputs": [
    {
     "name": "stdout",
     "output_type": "stream",
     "text": [
      "*\n",
      "**\n",
      "***\n",
      "****\n",
      "*****\n",
      "******\n",
      "*******\n",
      "********\n",
      "*********\n",
      "**********\n"
     ]
    }
   ],
   "source": [
    "for i in range(1,11):\n",
    "    print(\"*\"*i)\n"
   ]
  },
  {
   "cell_type": "code",
   "execution_count": 28,
   "metadata": {},
   "outputs": [
    {
     "name": "stdout",
     "output_type": "stream",
     "text": [
      "**********\n",
      "*********\n",
      "********\n",
      "*******\n",
      "******\n",
      "*****\n",
      "****\n",
      "***\n",
      "**\n",
      "*\n"
     ]
    }
   ],
   "source": [
    "for i in range(1,11):\n",
    "    print(\"*\"*(11-i))"
   ]
  },
  {
   "cell_type": "code",
   "execution_count": 30,
   "metadata": {},
   "outputs": [
    {
     "name": "stdout",
     "output_type": "stream",
     "text": [
      "          *\n",
      "         **\n",
      "        ***\n",
      "       ****\n",
      "      *****\n",
      "     ******\n",
      "    *******\n",
      "   ********\n",
      "  *********\n",
      " **********\n"
     ]
    }
   ],
   "source": [
    "for i in range(1,11):\n",
    "    print(\" \"*(11-i)+\"*\"*i)"
   ]
  },
  {
   "cell_type": "code",
   "execution_count": 31,
   "metadata": {},
   "outputs": [
    {
     "name": "stdout",
     "output_type": "stream",
     "text": [
      " **********\n",
      "  *********\n",
      "   ********\n",
      "    *******\n",
      "     ******\n",
      "      *****\n",
      "       ****\n",
      "        ***\n",
      "         **\n",
      "          *\n"
     ]
    }
   ],
   "source": [
    "for i in range(1,11):\n",
    "    print(\" \"*(i)+\"*\"*(11-i))"
   ]
  },
  {
   "cell_type": "code",
   "execution_count": 45,
   "metadata": {},
   "outputs": [
    {
     "name": "stdout",
     "output_type": "stream",
     "text": [
      "**********************\n",
      "**********  **********\n",
      "*********    *********\n",
      "********      ********\n",
      "*******        *******\n",
      "******          ******\n",
      "*****            *****\n",
      "****              ****\n",
      "***                ***\n",
      "**                  **\n",
      "*                    *\n",
      "*                    *\n",
      "**                  **\n",
      "***                ***\n",
      "****              ****\n",
      "*****            *****\n",
      "******          ******\n",
      "*******        *******\n",
      "********      ********\n",
      "*********    *********\n",
      "**********  **********\n",
      "**********************\n"
     ]
    }
   ],
   "source": [
    "for i in range(0,11):\n",
    "    print(\"*\"*(11-i)+\" \"*i+\" \"*i+\"*\"*(11-i))\n",
    "for j in range(1,12):\n",
    "    print(\"*\"*(j)+\" \"*(11-j)+\" \"*(11-j)+\"*\"*(j))    \n",
    "    "
   ]
  },
  {
   "cell_type": "code",
   "execution_count": null,
   "metadata": {},
   "outputs": [],
   "source": []
  },
  {
   "cell_type": "code",
   "execution_count": null,
   "metadata": {},
   "outputs": [],
   "source": []
  },
  {
   "cell_type": "code",
   "execution_count": null,
   "metadata": {},
   "outputs": [],
   "source": []
  },
  {
   "cell_type": "code",
   "execution_count": null,
   "metadata": {},
   "outputs": [],
   "source": []
  },
  {
   "cell_type": "code",
   "execution_count": null,
   "metadata": {},
   "outputs": [],
   "source": []
  },
  {
   "cell_type": "code",
   "execution_count": null,
   "metadata": {},
   "outputs": [],
   "source": []
  },
  {
   "cell_type": "code",
   "execution_count": null,
   "metadata": {},
   "outputs": [],
   "source": []
  },
  {
   "cell_type": "code",
   "execution_count": null,
   "metadata": {},
   "outputs": [],
   "source": []
  },
  {
   "cell_type": "code",
   "execution_count": null,
   "metadata": {},
   "outputs": [],
   "source": []
  },
  {
   "cell_type": "code",
   "execution_count": null,
   "metadata": {},
   "outputs": [],
   "source": []
  },
  {
   "cell_type": "code",
   "execution_count": null,
   "metadata": {},
   "outputs": [],
   "source": []
  },
  {
   "cell_type": "code",
   "execution_count": null,
   "metadata": {},
   "outputs": [],
   "source": []
  },
  {
   "cell_type": "code",
   "execution_count": null,
   "metadata": {},
   "outputs": [],
   "source": []
  },
  {
   "cell_type": "code",
   "execution_count": null,
   "metadata": {},
   "outputs": [],
   "source": []
  },
  {
   "cell_type": "code",
   "execution_count": null,
   "metadata": {},
   "outputs": [],
   "source": []
  },
  {
   "cell_type": "code",
   "execution_count": null,
   "metadata": {},
   "outputs": [],
   "source": []
  }
 ],
 "metadata": {
  "kernelspec": {
   "display_name": "Python 3",
   "language": "python",
   "name": "python3"
  },
  "language_info": {
   "codemirror_mode": {
    "name": "ipython",
    "version": 3
   },
   "file_extension": ".py",
   "mimetype": "text/x-python",
   "name": "python",
   "nbconvert_exporter": "python",
   "pygments_lexer": "ipython3",
   "version": "3.7.3"
  }
 },
 "nbformat": 4,
 "nbformat_minor": 2
}
