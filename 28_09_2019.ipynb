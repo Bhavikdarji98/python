{
 "cells": [
  {
   "cell_type": "code",
   "execution_count": null,
   "metadata": {},
   "outputs": [],
   "source": [
    "age=int(input(\"Enter Your Age Please: \"))\n",
    "if age>=18:\n",
    "    print(\"Congratulations! You Are Eligible For Applying Loan \")\n",
    "    \n",
    "    job=input(\"Please Enter Your Job Proffession:\\n1.Government\\n2.Private\\n\")\n",
    "    print(\"\")\n",
    "    \n",
    "else:\n",
    "    print(\"Sorry! You Are not Eligible For Applying The Loan\")"
   ]
  },
  {
   "cell_type": "code",
   "execution_count": 7,
   "metadata": {},
   "outputs": [
    {
     "name": "stdout",
     "output_type": "stream",
     "text": [
      "enter your number 121\n",
      "121\n",
      "palindrom\n"
     ]
    }
   ],
   "source": [
    "x=int(input(\"enter your number \"))\n",
    "n=x\n",
    "r=0\n",
    "rev=0\n",
    "while x>0: \n",
    "    r=int(x%10)\n",
    "    rev=int((rev*10)+r)\n",
    "    x=int(x/10)\n",
    "print(rev)\n",
    "    \n",
    "if n==rev:\n",
    "    print(\"palindrom\")\n",
    "else:\n",
    "    print(\"not palindrom\")"
   ]
  },
  {
   "cell_type": "code",
   "execution_count": 4,
   "metadata": {},
   "outputs": [
    {
     "name": "stdout",
     "output_type": "stream",
     "text": [
      "enter your number 4\n",
      "non prime\n"
     ]
    }
   ],
   "source": [
    "x=int(input(\"enter your number \"))\n",
    "c=0\n",
    "for i in range(1,x+1):\n",
    "    if x%i==0:\n",
    "        c+=1\n",
    "if c==2:\n",
    "    print(\"prime\")\n",
    "else:\n",
    "    print(\"non prime\")"
   ]
  },
  {
   "cell_type": "code",
   "execution_count": 14,
   "metadata": {},
   "outputs": [
    {
     "name": "stdout",
     "output_type": "stream",
     "text": [
      "          **          \n",
      "         ****         \n",
      "        ******        \n",
      "       ********       \n",
      "      **********      \n",
      "     ************     \n",
      "    **************    \n",
      "   ****************   \n",
      "  ******************  \n",
      " ******************** \n",
      " ******************** \n",
      "  ******************  \n",
      "   ****************   \n",
      "    **************    \n",
      "     ************     \n",
      "      **********      \n",
      "       ********       \n",
      "        ******        \n",
      "         ****         \n",
      "          **          \n"
     ]
    }
   ],
   "source": [
    "for i in range(1,11):\n",
    "    print(\" \"*(11-i)+\"*\"*i+\"*\"*i+\" \"*(11-i))\n",
    "for j in range(1,11):\n",
    "    print(\" \"*(j)+\"*\"*(11-j)+\"*\"*(11-j)+\" \"*(j))    "
   ]
  },
  {
   "cell_type": "code",
   "execution_count": null,
   "metadata": {},
   "outputs": [],
   "source": []
  },
  {
   "cell_type": "code",
   "execution_count": null,
   "metadata": {},
   "outputs": [],
   "source": []
  },
  {
   "cell_type": "code",
   "execution_count": null,
   "metadata": {},
   "outputs": [],
   "source": []
  },
  {
   "cell_type": "code",
   "execution_count": null,
   "metadata": {},
   "outputs": [],
   "source": []
  },
  {
   "cell_type": "code",
   "execution_count": null,
   "metadata": {},
   "outputs": [],
   "source": []
  },
  {
   "cell_type": "code",
   "execution_count": null,
   "metadata": {},
   "outputs": [],
   "source": []
  },
  {
   "cell_type": "code",
   "execution_count": null,
   "metadata": {},
   "outputs": [],
   "source": []
  },
  {
   "cell_type": "code",
   "execution_count": null,
   "metadata": {},
   "outputs": [],
   "source": []
  },
  {
   "cell_type": "code",
   "execution_count": null,
   "metadata": {},
   "outputs": [],
   "source": []
  }
 ],
 "metadata": {
  "kernelspec": {
   "display_name": "Python 3",
   "language": "python",
   "name": "python3"
  },
  "language_info": {
   "codemirror_mode": {
    "name": "ipython",
    "version": 3
   },
   "file_extension": ".py",
   "mimetype": "text/x-python",
   "name": "python",
   "nbconvert_exporter": "python",
   "pygments_lexer": "ipython3",
   "version": "3.7.3"
  }
 },
 "nbformat": 4,
 "nbformat_minor": 2
}
